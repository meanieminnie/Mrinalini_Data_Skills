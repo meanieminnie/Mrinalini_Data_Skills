{
 "cells": [
  {
   "cell_type": "code",
   "execution_count": 4,
   "metadata": {
    "id": "QC4xhAo8Jcio"
   },
   "outputs": [],
   "source": [
    "claims = [1, 2, 3, 4, 5]\n",
    "dates = [\n",
    "    \"<b class='table-label'>Filed Date</b><span class='table-content'>10/17/2019</span>\",\n",
    "    \"<b class='table-label'>Filed Date</b><span class='table-content'>11/10/2019</span>\",\n",
    "    \"<b class='table-label'>Filed Date</b><span class='table-content'>11/12/2019</span>\", \n",
    "    \"<b class='table-label'>Filed Date</b><span class='table-content'>12/07/2019</span>\", \n",
    "    \"<b class='table-label'>Filed Date</b><span class='table-content'>12/27/2019</span>\" \n",
    "]\n",
    "totals = [\n",
    "    \"<b class='table-label'>Claim Value</b><span class='table-content'>$10.00</span>\",\n",
    "    \"<b class='table-label'>Claim Value</b><span class='table-content'>$20.00</span>\",\n",
    "    \"<b class='table-label'>Claim Value</b><span class='table-content'>$30.00</span>\",\n",
    "    \"<b class='table-label'>Claim Value</b><span class='table-content'>$40.00</span>\",\n",
    "    \"<b class='table-label'>Claim Value</b><span class='table-content'>$50.00</span>\"    \n",
    "]"
   ]
  },
  {
   "cell_type": "code",
   "execution_count": 5,
   "metadata": {},
   "outputs": [],
   "source": [
    "import pandas as pd\n",
    "from bs4 import BeautifulSoup"
   ]
  },
  {
   "cell_type": "code",
   "execution_count": 7,
   "metadata": {},
   "outputs": [
    {
     "data": {
      "text/html": [
       "<div>\n",
       "<style scoped>\n",
       "    .dataframe tbody tr th:only-of-type {\n",
       "        vertical-align: middle;\n",
       "    }\n",
       "\n",
       "    .dataframe tbody tr th {\n",
       "        vertical-align: top;\n",
       "    }\n",
       "\n",
       "    .dataframe thead th {\n",
       "        text-align: right;\n",
       "    }\n",
       "</style>\n",
       "<table border=\"1\" class=\"dataframe\">\n",
       "  <thead>\n",
       "    <tr style=\"text-align: right;\">\n",
       "      <th></th>\n",
       "      <th>claims</th>\n",
       "      <th>dates</th>\n",
       "      <th>totals</th>\n",
       "    </tr>\n",
       "  </thead>\n",
       "  <tbody>\n",
       "    <tr>\n",
       "      <th>0</th>\n",
       "      <td>1</td>\n",
       "      <td>&lt;b class='table-label'&gt;Filed Date&lt;/b&gt;&lt;span cla...</td>\n",
       "      <td>&lt;b class='table-label'&gt;Claim Value&lt;/b&gt;&lt;span cl...</td>\n",
       "    </tr>\n",
       "    <tr>\n",
       "      <th>1</th>\n",
       "      <td>2</td>\n",
       "      <td>&lt;b class='table-label'&gt;Filed Date&lt;/b&gt;&lt;span cla...</td>\n",
       "      <td>&lt;b class='table-label'&gt;Claim Value&lt;/b&gt;&lt;span cl...</td>\n",
       "    </tr>\n",
       "    <tr>\n",
       "      <th>2</th>\n",
       "      <td>3</td>\n",
       "      <td>&lt;b class='table-label'&gt;Filed Date&lt;/b&gt;&lt;span cla...</td>\n",
       "      <td>&lt;b class='table-label'&gt;Claim Value&lt;/b&gt;&lt;span cl...</td>\n",
       "    </tr>\n",
       "    <tr>\n",
       "      <th>3</th>\n",
       "      <td>4</td>\n",
       "      <td>&lt;b class='table-label'&gt;Filed Date&lt;/b&gt;&lt;span cla...</td>\n",
       "      <td>&lt;b class='table-label'&gt;Claim Value&lt;/b&gt;&lt;span cl...</td>\n",
       "    </tr>\n",
       "    <tr>\n",
       "      <th>4</th>\n",
       "      <td>5</td>\n",
       "      <td>&lt;b class='table-label'&gt;Filed Date&lt;/b&gt;&lt;span cla...</td>\n",
       "      <td>&lt;b class='table-label'&gt;Claim Value&lt;/b&gt;&lt;span cl...</td>\n",
       "    </tr>\n",
       "  </tbody>\n",
       "</table>\n",
       "</div>"
      ],
      "text/plain": [
       "   claims                                              dates  \\\n",
       "0       1  <b class='table-label'>Filed Date</b><span cla...   \n",
       "1       2  <b class='table-label'>Filed Date</b><span cla...   \n",
       "2       3  <b class='table-label'>Filed Date</b><span cla...   \n",
       "3       4  <b class='table-label'>Filed Date</b><span cla...   \n",
       "4       5  <b class='table-label'>Filed Date</b><span cla...   \n",
       "\n",
       "                                              totals  \n",
       "0  <b class='table-label'>Claim Value</b><span cl...  \n",
       "1  <b class='table-label'>Claim Value</b><span cl...  \n",
       "2  <b class='table-label'>Claim Value</b><span cl...  \n",
       "3  <b class='table-label'>Claim Value</b><span cl...  \n",
       "4  <b class='table-label'>Claim Value</b><span cl...  "
      ]
     },
     "execution_count": 7,
     "metadata": {},
     "output_type": "execute_result"
    }
   ],
   "source": [
    "df = pd.DataFrame(zip(claims, dates, totals),\n",
    "                 columns = [\"claims\",\"dates\",\"totals\"])\n",
    "df"
   ]
  },
  {
   "cell_type": "code",
   "execution_count": 8,
   "metadata": {},
   "outputs": [
    {
     "name": "stdout",
     "output_type": "stream",
     "text": [
      "<class 'pandas.core.frame.DataFrame'>\n",
      "RangeIndex: 5 entries, 0 to 4\n",
      "Data columns (total 3 columns):\n",
      " #   Column  Non-Null Count  Dtype \n",
      "---  ------  --------------  ----- \n",
      " 0   claims  5 non-null      int64 \n",
      " 1   dates   5 non-null      object\n",
      " 2   totals  5 non-null      object\n",
      "dtypes: int64(1), object(2)\n",
      "memory usage: 248.0+ bytes\n"
     ]
    }
   ],
   "source": [
    "df.info()\n",
    "# we found out that dates and totals are object, which in pandas means string. can't do operations on string"
   ]
  },
  {
   "cell_type": "code",
   "execution_count": 13,
   "metadata": {},
   "outputs": [],
   "source": [
    "# write a function to strip all the html using beautifulsoup\n",
    "\n",
    "def strip_html(target):\n",
    "    target= str(target)\n",
    "    soup = BeautifulSoup(target, \"html.parser\")\n",
    "    return (soup.find(\"span\", class_=\"table-content\").get_text())\n",
    "    "
   ]
  },
  {
   "cell_type": "code",
   "execution_count": 15,
   "metadata": {},
   "outputs": [],
   "source": [
    "# now we create target columns to isolate \n",
    "target_cols = [\"dates\", \"totals\"]"
   ]
  },
  {
   "cell_type": "code",
   "execution_count": 16,
   "metadata": {},
   "outputs": [],
   "source": [
    "for target in target_cols:\n",
    "    df[target].apply(lambda x: strip_html(x))\n",
    "    \n",
    "# lambda expressions: the function takes the individual values from 1 cell in strip_html, \n",
    "# holds it in x and runs strip function on it, while stripping it of its values"
   ]
  },
  {
   "cell_type": "code",
   "execution_count": 18,
   "metadata": {},
   "outputs": [
    {
     "data": {
      "text/plain": [
       "0    <b class='table-label'>Filed Date</b><span cla...\n",
       "1    <b class='table-label'>Filed Date</b><span cla...\n",
       "2    <b class='table-label'>Filed Date</b><span cla...\n",
       "3    <b class='table-label'>Filed Date</b><span cla...\n",
       "4    <b class='table-label'>Filed Date</b><span cla...\n",
       "Name: dates, dtype: object"
      ]
     },
     "execution_count": 18,
     "metadata": {},
     "output_type": "execute_result"
    }
   ],
   "source": [
    "df[\"dates\"]"
   ]
  },
  {
   "cell_type": "code",
   "execution_count": null,
   "metadata": {},
   "outputs": [],
   "source": []
  }
 ],
 "metadata": {
  "colab": {
   "authorship_tag": "ABX9TyO9rh7IVgjA1/SdKrFC6P6P",
   "collapsed_sections": [],
   "name": "week_4_html_mix_BLANK.ipynb",
   "provenance": []
  },
  "kernelspec": {
   "display_name": "Python 3 (ipykernel)",
   "language": "python",
   "name": "python3"
  },
  "language_info": {
   "codemirror_mode": {
    "name": "ipython",
    "version": 3
   },
   "file_extension": ".py",
   "mimetype": "text/x-python",
   "name": "python",
   "nbconvert_exporter": "python",
   "pygments_lexer": "ipython3",
   "version": "3.9.13"
  }
 },
 "nbformat": 4,
 "nbformat_minor": 1
}
