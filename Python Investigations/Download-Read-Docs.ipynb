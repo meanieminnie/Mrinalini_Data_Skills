{
 "cells": [
  {
   "cell_type": "markdown",
   "metadata": {
    "id": "fv1F1HyA9zmX"
   },
   "source": [
    "# Dowload, Capture, Structure\n",
    "\n",
    "For your homework you downloaded **all** the files on <a href=\"https://sandeepmj.github.io/scrape-example-page/pages.html\">the demo site</a>. \n",
    "\n",
    "Let's say we have all the files <a href=\"https://drive.google.com/file/d/1med3kfLnfkGy2WChtp-Pdsa5QO6Mp569/view?usp=share_link\">in this folder</a>. Download this folder and move it next to your ```.ipynb``` file. (Soon we'll learn how to do this programmatically.)\n",
    "\n",
    "### Goal:\n",
    "\n",
    "Create a dataframe that holds:\n",
    "\n",
    "- name of the renter, \n",
    "- whether their lease of renewed or terminated,\n",
    "- the name of the source file."
   ]
  },
  {
   "cell_type": "code",
   "execution_count": 1,
   "metadata": {
    "id": "m2ru6dyM9zmb"
   },
   "outputs": [],
   "source": [
    "# import libraries\n",
    "import pandas as pd\n",
    "import glob"
   ]
  },
  {
   "cell_type": "code",
   "execution_count": 23,
   "metadata": {},
   "outputs": [
    {
     "name": "stdout",
     "output_type": "stream",
     "text": [
      "Requirement already satisfied: icecream in /Users/mrinalininayak/opt/anaconda3/lib/python3.9/site-packages (2.1.3)\n",
      "Requirement already satisfied: colorama>=0.3.9 in /Users/mrinalininayak/opt/anaconda3/lib/python3.9/site-packages (from icecream) (0.4.5)\n",
      "Requirement already satisfied: asttokens>=2.0.1 in /Users/mrinalininayak/opt/anaconda3/lib/python3.9/site-packages (from icecream) (2.4.0)\n",
      "Requirement already satisfied: pygments>=2.2.0 in /Users/mrinalininayak/opt/anaconda3/lib/python3.9/site-packages (from icecream) (2.11.2)\n",
      "Requirement already satisfied: executing>=0.3.1 in /Users/mrinalininayak/opt/anaconda3/lib/python3.9/site-packages (from icecream) (2.0.0)\n",
      "Requirement already satisfied: six>=1.12.0 in /Users/mrinalininayak/opt/anaconda3/lib/python3.9/site-packages (from asttokens>=2.0.1->icecream) (1.16.0)\n",
      "Note: you may need to restart the kernel to use updated packages.\n"
     ]
    }
   ],
   "source": [
    "pip install icecream"
   ]
  },
  {
   "cell_type": "markdown",
   "metadata": {
    "id": "lJMGDK6Uh5-h"
   },
   "source": [
    "# Giving structure to unstructured data"
   ]
  },
  {
   "cell_type": "code",
   "execution_count": 2,
   "metadata": {
    "id": "yFKQYyAiGbYH",
    "scrolled": true
   },
   "outputs": [
    {
     "data": {
      "text/plain": [
       "['my_downloads/text_doc_01.txt',\n",
       " 'my_downloads/text_doc_02.txt',\n",
       " 'my_downloads/text_doc_03.txt',\n",
       " 'my_downloads/text_doc_04.txt',\n",
       " 'my_downloads/text_doc_05.txt',\n",
       " 'my_downloads/text_doc_06.txt',\n",
       " 'my_downloads/text_doc_07.txt',\n",
       " 'my_downloads/text_doc_08.txt',\n",
       " 'my_downloads/text_doc_09.txt',\n",
       " 'my_downloads/text_doc_10.txt',\n",
       " 'my_downloads/text_doc_A.txt',\n",
       " 'my_downloads/text_doc_B.txt',\n",
       " 'my_downloads/text_doc_C.txt',\n",
       " 'my_downloads/text_doc_D.txt',\n",
       " 'my_downloads/text_doc_E.txt',\n",
       " 'my_downloads/text_doc_F.txt',\n",
       " 'my_downloads/text_doc_G.txt',\n",
       " 'my_downloads/text_doc_H.txt',\n",
       " 'my_downloads/text_doc_I.txt',\n",
       " 'my_downloads/text_doc_J.txt']"
      ]
     },
     "execution_count": 2,
     "metadata": {},
     "output_type": "execute_result"
    }
   ],
   "source": [
    "## pull ONLY all txt files into our notebook\n",
    "all_txts = sorted(glob.glob(\"my_downloads/*.txt\"))\n",
    "all_txts"
   ]
  },
  {
   "cell_type": "code",
   "execution_count": 24,
   "metadata": {},
   "outputs": [],
   "source": [
    "from icecream import ic"
   ]
  },
  {
   "cell_type": "code",
   "execution_count": 25,
   "metadata": {
    "id": "fqN9xmTuD-Ao",
    "scrolled": true
   },
   "outputs": [
    {
     "name": "stderr",
     "output_type": "stream",
     "text": [
      "ic| client: 'Speaker List Bureau'\n",
      "ic| text_file: 'my_downloads/text_doc_01.txt'\n",
      "ic| client: 'Speaker List Bureau'\n",
      "ic| text_file: 'my_downloads/text_doc_02.txt'\n",
      "ic| client: 'Speaker List Bureau'\n",
      "ic| text_file: 'my_downloads/text_doc_03.txt'\n",
      "ic| client: 'Speaker List Bureau'\n",
      "ic| text_file: 'my_downloads/text_doc_04.txt'\n",
      "ic| client: 'Speaker List Bureau'\n",
      "ic| text_file: 'my_downloads/text_doc_05.txt'\n",
      "ic| client: 'Speaker List Bureau'\n",
      "ic| text_file: 'my_downloads/text_doc_06.txt'\n",
      "ic| client: 'Speaker List Bureau'\n",
      "ic| text_file: 'my_downloads/text_doc_07.txt'\n",
      "ic| client: 'Speaker List Bureau'\n",
      "ic| text_file: 'my_downloads/text_doc_08.txt'\n",
      "ic| client: 'Speaker List Bureau'\n",
      "ic| text_file: 'my_downloads/text_doc_09.txt'\n",
      "ic| client: 'Speaker List Bureau'\n",
      "ic| text_file: 'my_downloads/text_doc_10.txt'\n",
      "ic| client: 'Speaker List Bureau'\n",
      "ic| text_file: 'my_downloads/text_doc_A.txt'\n",
      "ic| client: 'Speaker List Bureau'\n",
      "ic| text_file: 'my_downloads/text_doc_B.txt'\n",
      "ic| client: 'Speaker List Bureau'\n",
      "ic| text_file: 'my_downloads/text_doc_C.txt'\n",
      "ic| client: 'Speaker List Bureau'\n",
      "ic| text_file: 'my_downloads/text_doc_D.txt'\n",
      "ic| client: 'Speaker List Bureau'\n",
      "ic| text_file: 'my_downloads/text_doc_E.txt'\n",
      "ic| client: 'Speaker List Bureau'\n",
      "ic| text_file: 'my_downloads/text_doc_F.txt'\n",
      "ic| client: 'Speaker List Bureau'\n",
      "ic| text_file: 'my_downloads/text_doc_G.txt'\n",
      "ic| client: 'Speaker List Bureau'\n",
      "ic| text_file: 'my_downloads/text_doc_H.txt'\n",
      "ic| client: 'Speaker List Bureau'\n",
      "ic| text_file: 'my_downloads/text_doc_I.txt'\n",
      "ic| client: 'Speaker List Bureau'\n",
      "ic| text_file: 'my_downloads/text_doc_J.txt'\n"
     ]
    }
   ],
   "source": [
    "## let's see what the first line of each file contains\n",
    "for text_file in all_txts:\n",
    "#     print(text_file)\n",
    "    with open(text_file,\"r\") as my_text:\n",
    "        all_text = my_text.readlines()\n",
    "        ic(client)\n",
    "        ic(text_file)\n",
    "#         print(all_text)\n",
    "#         print(f\"Client:{all_text[0]}\")\n",
    "#         print(f\"Source File: {text_file}\")\n"
   ]
  },
  {
   "cell_type": "code",
   "execution_count": 19,
   "metadata": {
    "collapsed": true,
    "id": "WmZYM2D4D99U"
   },
   "outputs": [
    {
     "name": "stdout",
     "output_type": "stream",
     "text": [
      "[{'client': 'Pen Federal Credit Union', 'decision': 'renew', 'source': 'my_downloads/text_doc_01.txt'}]\n",
      "[{'client': 'Pen Federal Credit Union', 'decision': 'renew', 'source': 'my_downloads/text_doc_01.txt'}, {'client': 'Help Desk Inc.', 'decision': 'renew', 'source': 'my_downloads/text_doc_02.txt'}]\n",
      "[{'client': 'Pen Federal Credit Union', 'decision': 'renew', 'source': 'my_downloads/text_doc_01.txt'}, {'client': 'Help Desk Inc.', 'decision': 'renew', 'source': 'my_downloads/text_doc_02.txt'}, {'client': \"Global Wax n' Wane\", 'decision': 'renew', 'source': 'my_downloads/text_doc_03.txt'}]\n",
      "[{'client': 'Pen Federal Credit Union', 'decision': 'renew', 'source': 'my_downloads/text_doc_01.txt'}, {'client': 'Help Desk Inc.', 'decision': 'renew', 'source': 'my_downloads/text_doc_02.txt'}, {'client': \"Global Wax n' Wane\", 'decision': 'renew', 'source': 'my_downloads/text_doc_03.txt'}, {'client': 'Kick Box', 'decision': 'terminate', 'source': 'my_downloads/text_doc_04.txt'}]\n",
      "[{'client': 'Pen Federal Credit Union', 'decision': 'renew', 'source': 'my_downloads/text_doc_01.txt'}, {'client': 'Help Desk Inc.', 'decision': 'renew', 'source': 'my_downloads/text_doc_02.txt'}, {'client': \"Global Wax n' Wane\", 'decision': 'renew', 'source': 'my_downloads/text_doc_03.txt'}, {'client': 'Kick Box', 'decision': 'terminate', 'source': 'my_downloads/text_doc_04.txt'}, {'client': 'RedKey Inc.', 'decision': 'terminate', 'source': 'my_downloads/text_doc_05.txt'}]\n",
      "[{'client': 'Pen Federal Credit Union', 'decision': 'renew', 'source': 'my_downloads/text_doc_01.txt'}, {'client': 'Help Desk Inc.', 'decision': 'renew', 'source': 'my_downloads/text_doc_02.txt'}, {'client': \"Global Wax n' Wane\", 'decision': 'renew', 'source': 'my_downloads/text_doc_03.txt'}, {'client': 'Kick Box', 'decision': 'terminate', 'source': 'my_downloads/text_doc_04.txt'}, {'client': 'RedKey Inc.', 'decision': 'terminate', 'source': 'my_downloads/text_doc_05.txt'}, {'client': 'Clip-n-Chip', 'decision': 'terminate', 'source': 'my_downloads/text_doc_06.txt'}]\n",
      "[{'client': 'Pen Federal Credit Union', 'decision': 'renew', 'source': 'my_downloads/text_doc_01.txt'}, {'client': 'Help Desk Inc.', 'decision': 'renew', 'source': 'my_downloads/text_doc_02.txt'}, {'client': \"Global Wax n' Wane\", 'decision': 'renew', 'source': 'my_downloads/text_doc_03.txt'}, {'client': 'Kick Box', 'decision': 'terminate', 'source': 'my_downloads/text_doc_04.txt'}, {'client': 'RedKey Inc.', 'decision': 'terminate', 'source': 'my_downloads/text_doc_05.txt'}, {'client': 'Clip-n-Chip', 'decision': 'terminate', 'source': 'my_downloads/text_doc_06.txt'}, {'client': 'CoLens Limited', 'decision': 'terminate', 'source': 'my_downloads/text_doc_07.txt'}]\n",
      "[{'client': 'Pen Federal Credit Union', 'decision': 'renew', 'source': 'my_downloads/text_doc_01.txt'}, {'client': 'Help Desk Inc.', 'decision': 'renew', 'source': 'my_downloads/text_doc_02.txt'}, {'client': \"Global Wax n' Wane\", 'decision': 'renew', 'source': 'my_downloads/text_doc_03.txt'}, {'client': 'Kick Box', 'decision': 'terminate', 'source': 'my_downloads/text_doc_04.txt'}, {'client': 'RedKey Inc.', 'decision': 'terminate', 'source': 'my_downloads/text_doc_05.txt'}, {'client': 'Clip-n-Chip', 'decision': 'terminate', 'source': 'my_downloads/text_doc_06.txt'}, {'client': 'CoLens Limited', 'decision': 'terminate', 'source': 'my_downloads/text_doc_07.txt'}, {'client': 'Diceware Inc.', 'decision': 'renew', 'source': 'my_downloads/text_doc_08.txt'}]\n",
      "[{'client': 'Pen Federal Credit Union', 'decision': 'renew', 'source': 'my_downloads/text_doc_01.txt'}, {'client': 'Help Desk Inc.', 'decision': 'renew', 'source': 'my_downloads/text_doc_02.txt'}, {'client': \"Global Wax n' Wane\", 'decision': 'renew', 'source': 'my_downloads/text_doc_03.txt'}, {'client': 'Kick Box', 'decision': 'terminate', 'source': 'my_downloads/text_doc_04.txt'}, {'client': 'RedKey Inc.', 'decision': 'terminate', 'source': 'my_downloads/text_doc_05.txt'}, {'client': 'Clip-n-Chip', 'decision': 'terminate', 'source': 'my_downloads/text_doc_06.txt'}, {'client': 'CoLens Limited', 'decision': 'terminate', 'source': 'my_downloads/text_doc_07.txt'}, {'client': 'Diceware Inc.', 'decision': 'renew', 'source': 'my_downloads/text_doc_08.txt'}, {'client': 'Teflon Inc.', 'decision': 'terminate', 'source': 'my_downloads/text_doc_09.txt'}]\n",
      "[{'client': 'Pen Federal Credit Union', 'decision': 'renew', 'source': 'my_downloads/text_doc_01.txt'}, {'client': 'Help Desk Inc.', 'decision': 'renew', 'source': 'my_downloads/text_doc_02.txt'}, {'client': \"Global Wax n' Wane\", 'decision': 'renew', 'source': 'my_downloads/text_doc_03.txt'}, {'client': 'Kick Box', 'decision': 'terminate', 'source': 'my_downloads/text_doc_04.txt'}, {'client': 'RedKey Inc.', 'decision': 'terminate', 'source': 'my_downloads/text_doc_05.txt'}, {'client': 'Clip-n-Chip', 'decision': 'terminate', 'source': 'my_downloads/text_doc_06.txt'}, {'client': 'CoLens Limited', 'decision': 'terminate', 'source': 'my_downloads/text_doc_07.txt'}, {'client': 'Diceware Inc.', 'decision': 'renew', 'source': 'my_downloads/text_doc_08.txt'}, {'client': 'Teflon Inc.', 'decision': 'terminate', 'source': 'my_downloads/text_doc_09.txt'}, {'client': 'RBG Inc.', 'decision': 'renew', 'source': 'my_downloads/text_doc_10.txt'}]\n",
      "[{'client': 'Pen Federal Credit Union', 'decision': 'renew', 'source': 'my_downloads/text_doc_01.txt'}, {'client': 'Help Desk Inc.', 'decision': 'renew', 'source': 'my_downloads/text_doc_02.txt'}, {'client': \"Global Wax n' Wane\", 'decision': 'renew', 'source': 'my_downloads/text_doc_03.txt'}, {'client': 'Kick Box', 'decision': 'terminate', 'source': 'my_downloads/text_doc_04.txt'}, {'client': 'RedKey Inc.', 'decision': 'terminate', 'source': 'my_downloads/text_doc_05.txt'}, {'client': 'Clip-n-Chip', 'decision': 'terminate', 'source': 'my_downloads/text_doc_06.txt'}, {'client': 'CoLens Limited', 'decision': 'terminate', 'source': 'my_downloads/text_doc_07.txt'}, {'client': 'Diceware Inc.', 'decision': 'renew', 'source': 'my_downloads/text_doc_08.txt'}, {'client': 'Teflon Inc.', 'decision': 'terminate', 'source': 'my_downloads/text_doc_09.txt'}, {'client': 'RBG Inc.', 'decision': 'renew', 'source': 'my_downloads/text_doc_10.txt'}, {'client': 'Pumkin Spice Corp', 'decision': 'renew', 'source': 'my_downloads/text_doc_A.txt'}]\n",
      "[{'client': 'Pen Federal Credit Union', 'decision': 'renew', 'source': 'my_downloads/text_doc_01.txt'}, {'client': 'Help Desk Inc.', 'decision': 'renew', 'source': 'my_downloads/text_doc_02.txt'}, {'client': \"Global Wax n' Wane\", 'decision': 'renew', 'source': 'my_downloads/text_doc_03.txt'}, {'client': 'Kick Box', 'decision': 'terminate', 'source': 'my_downloads/text_doc_04.txt'}, {'client': 'RedKey Inc.', 'decision': 'terminate', 'source': 'my_downloads/text_doc_05.txt'}, {'client': 'Clip-n-Chip', 'decision': 'terminate', 'source': 'my_downloads/text_doc_06.txt'}, {'client': 'CoLens Limited', 'decision': 'terminate', 'source': 'my_downloads/text_doc_07.txt'}, {'client': 'Diceware Inc.', 'decision': 'renew', 'source': 'my_downloads/text_doc_08.txt'}, {'client': 'Teflon Inc.', 'decision': 'terminate', 'source': 'my_downloads/text_doc_09.txt'}, {'client': 'RBG Inc.', 'decision': 'renew', 'source': 'my_downloads/text_doc_10.txt'}, {'client': 'Pumkin Spice Corp', 'decision': 'renew', 'source': 'my_downloads/text_doc_A.txt'}, {'client': 'Camera AI', 'decision': 'renew', 'source': 'my_downloads/text_doc_B.txt'}]\n",
      "[{'client': 'Pen Federal Credit Union', 'decision': 'renew', 'source': 'my_downloads/text_doc_01.txt'}, {'client': 'Help Desk Inc.', 'decision': 'renew', 'source': 'my_downloads/text_doc_02.txt'}, {'client': \"Global Wax n' Wane\", 'decision': 'renew', 'source': 'my_downloads/text_doc_03.txt'}, {'client': 'Kick Box', 'decision': 'terminate', 'source': 'my_downloads/text_doc_04.txt'}, {'client': 'RedKey Inc.', 'decision': 'terminate', 'source': 'my_downloads/text_doc_05.txt'}, {'client': 'Clip-n-Chip', 'decision': 'terminate', 'source': 'my_downloads/text_doc_06.txt'}, {'client': 'CoLens Limited', 'decision': 'terminate', 'source': 'my_downloads/text_doc_07.txt'}, {'client': 'Diceware Inc.', 'decision': 'renew', 'source': 'my_downloads/text_doc_08.txt'}, {'client': 'Teflon Inc.', 'decision': 'terminate', 'source': 'my_downloads/text_doc_09.txt'}, {'client': 'RBG Inc.', 'decision': 'renew', 'source': 'my_downloads/text_doc_10.txt'}, {'client': 'Pumkin Spice Corp', 'decision': 'renew', 'source': 'my_downloads/text_doc_A.txt'}, {'client': 'Camera AI', 'decision': 'renew', 'source': 'my_downloads/text_doc_B.txt'}, {'client': 'Glassware Design', 'decision': 'terminate', 'source': 'my_downloads/text_doc_C.txt'}]\n",
      "[{'client': 'Pen Federal Credit Union', 'decision': 'renew', 'source': 'my_downloads/text_doc_01.txt'}, {'client': 'Help Desk Inc.', 'decision': 'renew', 'source': 'my_downloads/text_doc_02.txt'}, {'client': \"Global Wax n' Wane\", 'decision': 'renew', 'source': 'my_downloads/text_doc_03.txt'}, {'client': 'Kick Box', 'decision': 'terminate', 'source': 'my_downloads/text_doc_04.txt'}, {'client': 'RedKey Inc.', 'decision': 'terminate', 'source': 'my_downloads/text_doc_05.txt'}, {'client': 'Clip-n-Chip', 'decision': 'terminate', 'source': 'my_downloads/text_doc_06.txt'}, {'client': 'CoLens Limited', 'decision': 'terminate', 'source': 'my_downloads/text_doc_07.txt'}, {'client': 'Diceware Inc.', 'decision': 'renew', 'source': 'my_downloads/text_doc_08.txt'}, {'client': 'Teflon Inc.', 'decision': 'terminate', 'source': 'my_downloads/text_doc_09.txt'}, {'client': 'RBG Inc.', 'decision': 'renew', 'source': 'my_downloads/text_doc_10.txt'}, {'client': 'Pumkin Spice Corp', 'decision': 'renew', 'source': 'my_downloads/text_doc_A.txt'}, {'client': 'Camera AI', 'decision': 'renew', 'source': 'my_downloads/text_doc_B.txt'}, {'client': 'Glassware Design', 'decision': 'terminate', 'source': 'my_downloads/text_doc_C.txt'}, {'client': 'Check Cashing', 'decision': 'terminate', 'source': 'my_downloads/text_doc_D.txt'}]\n",
      "[{'client': 'Pen Federal Credit Union', 'decision': 'renew', 'source': 'my_downloads/text_doc_01.txt'}, {'client': 'Help Desk Inc.', 'decision': 'renew', 'source': 'my_downloads/text_doc_02.txt'}, {'client': \"Global Wax n' Wane\", 'decision': 'renew', 'source': 'my_downloads/text_doc_03.txt'}, {'client': 'Kick Box', 'decision': 'terminate', 'source': 'my_downloads/text_doc_04.txt'}, {'client': 'RedKey Inc.', 'decision': 'terminate', 'source': 'my_downloads/text_doc_05.txt'}, {'client': 'Clip-n-Chip', 'decision': 'terminate', 'source': 'my_downloads/text_doc_06.txt'}, {'client': 'CoLens Limited', 'decision': 'terminate', 'source': 'my_downloads/text_doc_07.txt'}, {'client': 'Diceware Inc.', 'decision': 'renew', 'source': 'my_downloads/text_doc_08.txt'}, {'client': 'Teflon Inc.', 'decision': 'terminate', 'source': 'my_downloads/text_doc_09.txt'}, {'client': 'RBG Inc.', 'decision': 'renew', 'source': 'my_downloads/text_doc_10.txt'}, {'client': 'Pumkin Spice Corp', 'decision': 'renew', 'source': 'my_downloads/text_doc_A.txt'}, {'client': 'Camera AI', 'decision': 'renew', 'source': 'my_downloads/text_doc_B.txt'}, {'client': 'Glassware Design', 'decision': 'terminate', 'source': 'my_downloads/text_doc_C.txt'}, {'client': 'Check Cashing', 'decision': 'terminate', 'source': 'my_downloads/text_doc_D.txt'}, {'client': 'Ramp Lamp Corp.', 'decision': 'terminate', 'source': 'my_downloads/text_doc_E.txt'}]\n",
      "[{'client': 'Pen Federal Credit Union', 'decision': 'renew', 'source': 'my_downloads/text_doc_01.txt'}, {'client': 'Help Desk Inc.', 'decision': 'renew', 'source': 'my_downloads/text_doc_02.txt'}, {'client': \"Global Wax n' Wane\", 'decision': 'renew', 'source': 'my_downloads/text_doc_03.txt'}, {'client': 'Kick Box', 'decision': 'terminate', 'source': 'my_downloads/text_doc_04.txt'}, {'client': 'RedKey Inc.', 'decision': 'terminate', 'source': 'my_downloads/text_doc_05.txt'}, {'client': 'Clip-n-Chip', 'decision': 'terminate', 'source': 'my_downloads/text_doc_06.txt'}, {'client': 'CoLens Limited', 'decision': 'terminate', 'source': 'my_downloads/text_doc_07.txt'}, {'client': 'Diceware Inc.', 'decision': 'renew', 'source': 'my_downloads/text_doc_08.txt'}, {'client': 'Teflon Inc.', 'decision': 'terminate', 'source': 'my_downloads/text_doc_09.txt'}, {'client': 'RBG Inc.', 'decision': 'renew', 'source': 'my_downloads/text_doc_10.txt'}, {'client': 'Pumkin Spice Corp', 'decision': 'renew', 'source': 'my_downloads/text_doc_A.txt'}, {'client': 'Camera AI', 'decision': 'renew', 'source': 'my_downloads/text_doc_B.txt'}, {'client': 'Glassware Design', 'decision': 'terminate', 'source': 'my_downloads/text_doc_C.txt'}, {'client': 'Check Cashing', 'decision': 'terminate', 'source': 'my_downloads/text_doc_D.txt'}, {'client': 'Ramp Lamp Corp.', 'decision': 'terminate', 'source': 'my_downloads/text_doc_E.txt'}, {'client': 'Cap-n-Gown Inc.', 'decision': 'renew', 'source': 'my_downloads/text_doc_F.txt'}]\n",
      "[{'client': 'Pen Federal Credit Union', 'decision': 'renew', 'source': 'my_downloads/text_doc_01.txt'}, {'client': 'Help Desk Inc.', 'decision': 'renew', 'source': 'my_downloads/text_doc_02.txt'}, {'client': \"Global Wax n' Wane\", 'decision': 'renew', 'source': 'my_downloads/text_doc_03.txt'}, {'client': 'Kick Box', 'decision': 'terminate', 'source': 'my_downloads/text_doc_04.txt'}, {'client': 'RedKey Inc.', 'decision': 'terminate', 'source': 'my_downloads/text_doc_05.txt'}, {'client': 'Clip-n-Chip', 'decision': 'terminate', 'source': 'my_downloads/text_doc_06.txt'}, {'client': 'CoLens Limited', 'decision': 'terminate', 'source': 'my_downloads/text_doc_07.txt'}, {'client': 'Diceware Inc.', 'decision': 'renew', 'source': 'my_downloads/text_doc_08.txt'}, {'client': 'Teflon Inc.', 'decision': 'terminate', 'source': 'my_downloads/text_doc_09.txt'}, {'client': 'RBG Inc.', 'decision': 'renew', 'source': 'my_downloads/text_doc_10.txt'}, {'client': 'Pumkin Spice Corp', 'decision': 'renew', 'source': 'my_downloads/text_doc_A.txt'}, {'client': 'Camera AI', 'decision': 'renew', 'source': 'my_downloads/text_doc_B.txt'}, {'client': 'Glassware Design', 'decision': 'terminate', 'source': 'my_downloads/text_doc_C.txt'}, {'client': 'Check Cashing', 'decision': 'terminate', 'source': 'my_downloads/text_doc_D.txt'}, {'client': 'Ramp Lamp Corp.', 'decision': 'terminate', 'source': 'my_downloads/text_doc_E.txt'}, {'client': 'Cap-n-Gown Inc.', 'decision': 'renew', 'source': 'my_downloads/text_doc_F.txt'}, {'client': 'Crooked Curve Association', 'decision': 'renew', 'source': 'my_downloads/text_doc_G.txt'}]\n",
      "[{'client': 'Pen Federal Credit Union', 'decision': 'renew', 'source': 'my_downloads/text_doc_01.txt'}, {'client': 'Help Desk Inc.', 'decision': 'renew', 'source': 'my_downloads/text_doc_02.txt'}, {'client': \"Global Wax n' Wane\", 'decision': 'renew', 'source': 'my_downloads/text_doc_03.txt'}, {'client': 'Kick Box', 'decision': 'terminate', 'source': 'my_downloads/text_doc_04.txt'}, {'client': 'RedKey Inc.', 'decision': 'terminate', 'source': 'my_downloads/text_doc_05.txt'}, {'client': 'Clip-n-Chip', 'decision': 'terminate', 'source': 'my_downloads/text_doc_06.txt'}, {'client': 'CoLens Limited', 'decision': 'terminate', 'source': 'my_downloads/text_doc_07.txt'}, {'client': 'Diceware Inc.', 'decision': 'renew', 'source': 'my_downloads/text_doc_08.txt'}, {'client': 'Teflon Inc.', 'decision': 'terminate', 'source': 'my_downloads/text_doc_09.txt'}, {'client': 'RBG Inc.', 'decision': 'renew', 'source': 'my_downloads/text_doc_10.txt'}, {'client': 'Pumkin Spice Corp', 'decision': 'renew', 'source': 'my_downloads/text_doc_A.txt'}, {'client': 'Camera AI', 'decision': 'renew', 'source': 'my_downloads/text_doc_B.txt'}, {'client': 'Glassware Design', 'decision': 'terminate', 'source': 'my_downloads/text_doc_C.txt'}, {'client': 'Check Cashing', 'decision': 'terminate', 'source': 'my_downloads/text_doc_D.txt'}, {'client': 'Ramp Lamp Corp.', 'decision': 'terminate', 'source': 'my_downloads/text_doc_E.txt'}, {'client': 'Cap-n-Gown Inc.', 'decision': 'renew', 'source': 'my_downloads/text_doc_F.txt'}, {'client': 'Crooked Curve Association', 'decision': 'renew', 'source': 'my_downloads/text_doc_G.txt'}, {'client': 'Pet Bed Nation Inc.', 'decision': 'renew', 'source': 'my_downloads/text_doc_H.txt'}]\n",
      "[{'client': 'Pen Federal Credit Union', 'decision': 'renew', 'source': 'my_downloads/text_doc_01.txt'}, {'client': 'Help Desk Inc.', 'decision': 'renew', 'source': 'my_downloads/text_doc_02.txt'}, {'client': \"Global Wax n' Wane\", 'decision': 'renew', 'source': 'my_downloads/text_doc_03.txt'}, {'client': 'Kick Box', 'decision': 'terminate', 'source': 'my_downloads/text_doc_04.txt'}, {'client': 'RedKey Inc.', 'decision': 'terminate', 'source': 'my_downloads/text_doc_05.txt'}, {'client': 'Clip-n-Chip', 'decision': 'terminate', 'source': 'my_downloads/text_doc_06.txt'}, {'client': 'CoLens Limited', 'decision': 'terminate', 'source': 'my_downloads/text_doc_07.txt'}, {'client': 'Diceware Inc.', 'decision': 'renew', 'source': 'my_downloads/text_doc_08.txt'}, {'client': 'Teflon Inc.', 'decision': 'terminate', 'source': 'my_downloads/text_doc_09.txt'}, {'client': 'RBG Inc.', 'decision': 'renew', 'source': 'my_downloads/text_doc_10.txt'}, {'client': 'Pumkin Spice Corp', 'decision': 'renew', 'source': 'my_downloads/text_doc_A.txt'}, {'client': 'Camera AI', 'decision': 'renew', 'source': 'my_downloads/text_doc_B.txt'}, {'client': 'Glassware Design', 'decision': 'terminate', 'source': 'my_downloads/text_doc_C.txt'}, {'client': 'Check Cashing', 'decision': 'terminate', 'source': 'my_downloads/text_doc_D.txt'}, {'client': 'Ramp Lamp Corp.', 'decision': 'terminate', 'source': 'my_downloads/text_doc_E.txt'}, {'client': 'Cap-n-Gown Inc.', 'decision': 'renew', 'source': 'my_downloads/text_doc_F.txt'}, {'client': 'Crooked Curve Association', 'decision': 'renew', 'source': 'my_downloads/text_doc_G.txt'}, {'client': 'Pet Bed Nation Inc.', 'decision': 'renew', 'source': 'my_downloads/text_doc_H.txt'}, {'client': 'Flower Power', 'decision': 'renew', 'source': 'my_downloads/text_doc_I.txt'}]\n",
      "[{'client': 'Pen Federal Credit Union', 'decision': 'renew', 'source': 'my_downloads/text_doc_01.txt'}, {'client': 'Help Desk Inc.', 'decision': 'renew', 'source': 'my_downloads/text_doc_02.txt'}, {'client': \"Global Wax n' Wane\", 'decision': 'renew', 'source': 'my_downloads/text_doc_03.txt'}, {'client': 'Kick Box', 'decision': 'terminate', 'source': 'my_downloads/text_doc_04.txt'}, {'client': 'RedKey Inc.', 'decision': 'terminate', 'source': 'my_downloads/text_doc_05.txt'}, {'client': 'Clip-n-Chip', 'decision': 'terminate', 'source': 'my_downloads/text_doc_06.txt'}, {'client': 'CoLens Limited', 'decision': 'terminate', 'source': 'my_downloads/text_doc_07.txt'}, {'client': 'Diceware Inc.', 'decision': 'renew', 'source': 'my_downloads/text_doc_08.txt'}, {'client': 'Teflon Inc.', 'decision': 'terminate', 'source': 'my_downloads/text_doc_09.txt'}, {'client': 'RBG Inc.', 'decision': 'renew', 'source': 'my_downloads/text_doc_10.txt'}, {'client': 'Pumkin Spice Corp', 'decision': 'renew', 'source': 'my_downloads/text_doc_A.txt'}, {'client': 'Camera AI', 'decision': 'renew', 'source': 'my_downloads/text_doc_B.txt'}, {'client': 'Glassware Design', 'decision': 'terminate', 'source': 'my_downloads/text_doc_C.txt'}, {'client': 'Check Cashing', 'decision': 'terminate', 'source': 'my_downloads/text_doc_D.txt'}, {'client': 'Ramp Lamp Corp.', 'decision': 'terminate', 'source': 'my_downloads/text_doc_E.txt'}, {'client': 'Cap-n-Gown Inc.', 'decision': 'renew', 'source': 'my_downloads/text_doc_F.txt'}, {'client': 'Crooked Curve Association', 'decision': 'renew', 'source': 'my_downloads/text_doc_G.txt'}, {'client': 'Pet Bed Nation Inc.', 'decision': 'renew', 'source': 'my_downloads/text_doc_H.txt'}, {'client': 'Flower Power', 'decision': 'renew', 'source': 'my_downloads/text_doc_I.txt'}, {'client': 'Speaker List Bureau', 'decision': 'renew', 'source': 'my_downloads/text_doc_J.txt'}]\n"
     ]
    }
   ],
   "source": [
    "## create a list of dictionaries that holds the renter name, \n",
    "## lease decision, and source file\n",
    "\n",
    "decisions_list = []\n",
    "\n",
    "for text_file in all_txts:\n",
    "    with open(text_file,\"r\") as my_text:\n",
    "        all_text = my_text.readlines()\n",
    "        client = all_text[0].replace(\"Client: \",\"\").replace(\"\\n\",\"\")\n",
    "        decision = all_text[2]\n",
    "#         print(decision)\n",
    "        if \"renew\" in decision:\n",
    "            decision = \"renew\"\n",
    "        else:\n",
    "            decision = \"terminate\"    \n",
    "        decisions_dict = {\"client\": client,\n",
    "                          \"decision\": decision,\n",
    "                         \"source\": text_file}\n",
    "        decisions_list.append(decisions_dict)\n",
    "        print(decisions_list)"
   ]
  },
  {
   "cell_type": "code",
   "execution_count": 22,
   "metadata": {},
   "outputs": [],
   "source": [
    "## call that list of dictionaries\n"
   ]
  },
  {
   "cell_type": "code",
   "execution_count": null,
   "metadata": {},
   "outputs": [],
   "source": [
    "## turn into df\n",
    "df = pd.DataFrame(decisions_dict)\n",
    "df"
   ]
  }
 ],
 "metadata": {
  "celltoolbar": "Slideshow",
  "colab": {
   "collapsed_sections": [],
   "name": "week-8C-download-and-read_BLANK.ipynb",
   "provenance": [
    {
     "file_id": "1O76yK1JGDPc1kRTHTOIDjev2XbLGExhv",
     "timestamp": 1646785092936
    },
    {
     "file_id": "1U8zDTAuA8NQ2JaDzSqzSn03P2iT8KFLG",
     "timestamp": 1639579061177
    },
    {
     "file_id": "1tC30RwvbvYZQU9bLZ75I6kBbMski9LFN",
     "timestamp": 1628626954402
    }
   ]
  },
  "kernelspec": {
   "display_name": "Python 3 (ipykernel)",
   "language": "python",
   "name": "python3"
  },
  "language_info": {
   "codemirror_mode": {
    "name": "ipython",
    "version": 3
   },
   "file_extension": ".py",
   "mimetype": "text/x-python",
   "name": "python",
   "nbconvert_exporter": "python",
   "pygments_lexer": "ipython3",
   "version": "3.9.13"
  }
 },
 "nbformat": 4,
 "nbformat_minor": 1
}
